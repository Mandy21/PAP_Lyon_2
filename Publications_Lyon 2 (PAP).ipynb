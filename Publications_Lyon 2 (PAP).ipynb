{
 "cells": [
  {
   "cell_type": "markdown",
   "metadata": {},
   "source": [
    "#  <center>   Extraire les publications du portail HAL de Lyon 2 pour le *Projet Annuel de Performance (PAP)*  </center>\n",
    "##  <center> <span style=\"color:red\" > *Août 2023* </span> </center> \n",
    "<center>  Université Lumière Lyon 2  </center>"
   ]
  },
  {
   "cell_type": "markdown",
   "metadata": {},
   "source": [
    "\n",
    "- Le notebook décrit la procédure d'importation des publications du portail HAL.\n",
    "- Nous importons les documents publiés en 2022 (date de publication).\n"
   ]
  },
  {
   "cell_type": "code",
   "execution_count": 51,
   "metadata": {},
   "outputs": [],
   "source": [
    "import requests, json, csv\n",
    "import pandas as pd\n",
    "import numpy as np\n",
    "import matplotlib.pyplot as plt\n",
    "%matplotlib inline\n",
    "pd.set_option('display.max_columns', None)\n",
    "import seaborn as sns"
   ]
  },
  {
   "cell_type": "code",
   "execution_count": 52,
   "metadata": {},
   "outputs": [
    {
     "data": {
      "text/plain": [
       "27963"
      ]
     },
     "execution_count": 52,
     "metadata": {},
     "output_type": "execute_result"
    }
   ],
   "source": [
    "# (1) Afficher le nombre total de publications du portail HAL de Lyon 2\n",
    "req = requests.get(f\"https://api.archives-ouvertes.fr/search/univ-lyon2/?q=*:*&fq=docType_s:ART\")\n",
    "req_json = req.json()\n",
    "num = req_json[\"response\"]['numFound']\n",
    "num"
   ]
  },
  {
   "cell_type": "code",
   "execution_count": 53,
   "metadata": {},
   "outputs": [
    {
     "data": {
      "text/plain": [
       "3926"
      ]
     },
     "execution_count": 53,
     "metadata": {},
     "output_type": "execute_result"
    }
   ],
   "source": [
    "# (2) Afficher le nombre de publications 2022 HAL de Lyon 2\n",
    "req2 = requests.get(f\"https://api.archives-ouvertes.fr/search/univ-lyon2/?q=*:*&fq=publicationDateY_i:2022\")\n",
    "req2_json = req2.json()\n",
    "num_2022 = req2_json[\"response\"]['numFound']\n",
    "num_2022"
   ]
  },
  {
   "cell_type": "code",
   "execution_count": 54,
   "metadata": {},
   "outputs": [],
   "source": [
    "# (3) Retirer la liste des publications 2022 de Lyon 2\n",
    "req3 = requests.get(f\"https://api.archives-ouvertes.fr/search/univ-lyon2/?q=*:*&fq=publicationDateY_i:2022&rows=20000\\\n",
    "&fl=publicationDateY_i,docType_s,title_s,doiId_s,domainAllCode_s,\\\n",
    "domain_s,domain_t,primaryDomain_s,journalTitle_s, journalPublisher_s,journalIssn_s,language_s,instStructName_s,\\\n",
    "                     instStructId_i,instStructAcronym_s,openAccess_bool,labStructAcronym_s,labStructName_s,\\\n",
    "                      labStructId_i\")\n",
    "req3_json = req3.json()\n",
    "liste_2022 = req3_json[\"response\"]['docs']"
   ]
  },
  {
   "cell_type": "code",
   "execution_count": 56,
   "metadata": {},
   "outputs": [
    {
     "data": {
      "text/plain": [
       "(3926, 18)"
      ]
     },
     "execution_count": 56,
     "metadata": {},
     "output_type": "execute_result"
    }
   ],
   "source": [
    "lyon2_2022_df = pd.DataFrame(liste_2022)\n",
    "lyon2_2022_df = lyon2_2022_df.sort_values(\"publicationDateY_i\", ascending = False)\n",
    "lyon2_2022_df.shape"
   ]
  },
  {
   "cell_type": "code",
   "execution_count": 58,
   "metadata": {},
   "outputs": [
    {
     "data": {
      "text/plain": [
       "openAccess_bool           0\n",
       "domainAllCode_s           0\n",
       "domain_s                  0\n",
       "primaryDomain_s           0\n",
       "title_s                   0\n",
       "journalTitle_s         2440\n",
       "journalPublisher_s     2524\n",
       "journalIssn_s          2597\n",
       "labStructId_i            51\n",
       "labStructAcronym_s       51\n",
       "labStructName_s          51\n",
       "instStructId_i            0\n",
       "instStructAcronym_s       1\n",
       "instStructName_s          0\n",
       "language_s                0\n",
       "docType_s                 0\n",
       "doiId_s                2708\n",
       "publicationDateY_i        0\n",
       "dtype: int64"
      ]
     },
     "execution_count": 58,
     "metadata": {},
     "output_type": "execute_result"
    }
   ],
   "source": [
    "# Vérification des valeurs manquantes\n",
    "lyon2_2022_df.isnull().sum()"
   ]
  },
  {
   "cell_type": "code",
   "execution_count": 59,
   "metadata": {
    "scrolled": true
   },
   "outputs": [
    {
     "data": {
      "text/plain": [
       "docType_s\n",
       "ART            1388\n",
       "BLOG             56\n",
       "COMM            962\n",
       "COUV            725\n",
       "HDR               3\n",
       "IMG               3\n",
       "ISSUE            64\n",
       "LECTURE           6\n",
       "MEM              11\n",
       "NOTICE           52\n",
       "OTHER            72\n",
       "OUV             203\n",
       "POSTER           51\n",
       "PRESCONF          1\n",
       "PROCEEDINGS      21\n",
       "REPORT           93\n",
       "SOFTWARE         11\n",
       "SON               2\n",
       "THESE           108\n",
       "TRAD              4\n",
       "UNDEFINED        88\n",
       "VIDEO             2\n",
       "Name: title_s, dtype: int64"
      ]
     },
     "execution_count": 59,
     "metadata": {},
     "output_type": "execute_result"
    }
   ],
   "source": [
    "lyon2_2022_df.groupby(by=\"docType_s\")['title_s'].count()"
   ]
  },
  {
   "cell_type": "code",
   "execution_count": 60,
   "metadata": {},
   "outputs": [
    {
     "data": {
      "text/html": [
       "<div>\n",
       "<style scoped>\n",
       "    .dataframe tbody tr th:only-of-type {\n",
       "        vertical-align: middle;\n",
       "    }\n",
       "\n",
       "    .dataframe tbody tr th {\n",
       "        vertical-align: top;\n",
       "    }\n",
       "\n",
       "    .dataframe thead th {\n",
       "        text-align: right;\n",
       "    }\n",
       "</style>\n",
       "<table border=\"1\" class=\"dataframe\">\n",
       "  <thead>\n",
       "    <tr style=\"text-align: right;\">\n",
       "      <th></th>\n",
       "      <th>Total</th>\n",
       "      <th>Pourcentage</th>\n",
       "    </tr>\n",
       "  </thead>\n",
       "  <tbody>\n",
       "    <tr>\n",
       "      <th>ART</th>\n",
       "      <td>1388</td>\n",
       "      <td>35.4%</td>\n",
       "    </tr>\n",
       "    <tr>\n",
       "      <th>COMM</th>\n",
       "      <td>962</td>\n",
       "      <td>24.5%</td>\n",
       "    </tr>\n",
       "    <tr>\n",
       "      <th>COUV</th>\n",
       "      <td>725</td>\n",
       "      <td>18.5%</td>\n",
       "    </tr>\n",
       "    <tr>\n",
       "      <th>OUV</th>\n",
       "      <td>203</td>\n",
       "      <td>5.2%</td>\n",
       "    </tr>\n",
       "    <tr>\n",
       "      <th>THESE</th>\n",
       "      <td>108</td>\n",
       "      <td>2.8%</td>\n",
       "    </tr>\n",
       "    <tr>\n",
       "      <th>REPORT</th>\n",
       "      <td>93</td>\n",
       "      <td>2.4%</td>\n",
       "    </tr>\n",
       "    <tr>\n",
       "      <th>UNDEFINED</th>\n",
       "      <td>88</td>\n",
       "      <td>2.2%</td>\n",
       "    </tr>\n",
       "    <tr>\n",
       "      <th>OTHER</th>\n",
       "      <td>72</td>\n",
       "      <td>1.8%</td>\n",
       "    </tr>\n",
       "    <tr>\n",
       "      <th>ISSUE</th>\n",
       "      <td>64</td>\n",
       "      <td>1.6%</td>\n",
       "    </tr>\n",
       "    <tr>\n",
       "      <th>BLOG</th>\n",
       "      <td>56</td>\n",
       "      <td>1.4%</td>\n",
       "    </tr>\n",
       "    <tr>\n",
       "      <th>NOTICE</th>\n",
       "      <td>52</td>\n",
       "      <td>1.3%</td>\n",
       "    </tr>\n",
       "    <tr>\n",
       "      <th>POSTER</th>\n",
       "      <td>51</td>\n",
       "      <td>1.3%</td>\n",
       "    </tr>\n",
       "    <tr>\n",
       "      <th>PROCEEDINGS</th>\n",
       "      <td>21</td>\n",
       "      <td>0.5%</td>\n",
       "    </tr>\n",
       "    <tr>\n",
       "      <th>MEM</th>\n",
       "      <td>11</td>\n",
       "      <td>0.3%</td>\n",
       "    </tr>\n",
       "    <tr>\n",
       "      <th>SOFTWARE</th>\n",
       "      <td>11</td>\n",
       "      <td>0.3%</td>\n",
       "    </tr>\n",
       "    <tr>\n",
       "      <th>LECTURE</th>\n",
       "      <td>6</td>\n",
       "      <td>0.2%</td>\n",
       "    </tr>\n",
       "    <tr>\n",
       "      <th>TRAD</th>\n",
       "      <td>4</td>\n",
       "      <td>0.1%</td>\n",
       "    </tr>\n",
       "    <tr>\n",
       "      <th>HDR</th>\n",
       "      <td>3</td>\n",
       "      <td>0.1%</td>\n",
       "    </tr>\n",
       "    <tr>\n",
       "      <th>IMG</th>\n",
       "      <td>3</td>\n",
       "      <td>0.1%</td>\n",
       "    </tr>\n",
       "    <tr>\n",
       "      <th>VIDEO</th>\n",
       "      <td>2</td>\n",
       "      <td>0.1%</td>\n",
       "    </tr>\n",
       "    <tr>\n",
       "      <th>SON</th>\n",
       "      <td>2</td>\n",
       "      <td>0.1%</td>\n",
       "    </tr>\n",
       "    <tr>\n",
       "      <th>PRESCONF</th>\n",
       "      <td>1</td>\n",
       "      <td>0.0%</td>\n",
       "    </tr>\n",
       "  </tbody>\n",
       "</table>\n",
       "</div>"
      ],
      "text/plain": [
       "             Total Pourcentage\n",
       "ART           1388       35.4%\n",
       "COMM           962       24.5%\n",
       "COUV           725       18.5%\n",
       "OUV            203        5.2%\n",
       "THESE          108        2.8%\n",
       "REPORT          93        2.4%\n",
       "UNDEFINED       88        2.2%\n",
       "OTHER           72        1.8%\n",
       "ISSUE           64        1.6%\n",
       "BLOG            56        1.4%\n",
       "NOTICE          52        1.3%\n",
       "POSTER          51        1.3%\n",
       "PROCEEDINGS     21        0.5%\n",
       "MEM             11        0.3%\n",
       "SOFTWARE        11        0.3%\n",
       "LECTURE          6        0.2%\n",
       "TRAD             4        0.1%\n",
       "HDR              3        0.1%\n",
       "IMG              3        0.1%\n",
       "VIDEO            2        0.1%\n",
       "SON              2        0.1%\n",
       "PRESCONF         1        0.0%"
      ]
     },
     "execution_count": 60,
     "metadata": {},
     "output_type": "execute_result"
    }
   ],
   "source": [
    "# Répartition par type de publication dans un tableau\n",
    "tot_type = lyon2_2022_df.groupby(by=\"docType_s\")['title_s'].count()\n",
    "perc_type = lyon2_2022_df.docType_s.value_counts(normalize=True).mul(100).round(1).astype(str) + '%'\n",
    "\n",
    "tableau_0 = pd.DataFrame({'Total': tot_type,'Pourcentage': perc_type})\n",
    "tableau_1 = tableau_0.sort_values(\"Total\", ascending = False)\n",
    "tableau_1"
   ]
  },
  {
   "cell_type": "code",
   "execution_count": null,
   "metadata": {},
   "outputs": [],
   "source": []
  }
 ],
 "metadata": {
  "kernelspec": {
   "display_name": "Python 3 (ipykernel)",
   "language": "python",
   "name": "python3"
  },
  "language_info": {
   "codemirror_mode": {
    "name": "ipython",
    "version": 3
   },
   "file_extension": ".py",
   "mimetype": "text/x-python",
   "name": "python",
   "nbconvert_exporter": "python",
   "pygments_lexer": "ipython3",
   "version": "3.9.13"
  }
 },
 "nbformat": 4,
 "nbformat_minor": 2
}
